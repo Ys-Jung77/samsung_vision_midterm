{
 "cells": [
  {
   "cell_type": "markdown",
   "metadata": {},
   "source": [
    "# 0727 VAE Tutorial - Assignment\n",
    "### TA Taewook Nam (namsan@kaist.ac.kr)"
   ]
  },
  {
   "cell_type": "markdown",
   "metadata": {},
   "source": [
    "Train two VAE with low z dimension (ex. 2) and high z dimension (ex. 10) using given code below, then  \n",
    "1) Visualize several decoded images and compare their qualities.  \n",
    "2) Describe the reason of observed difference."
   ]
  },
  {
   "cell_type": "code",
   "execution_count": null,
   "metadata": {},
   "outputs": [],
   "source": [
    "import os\n",
    "\n",
    "import matplotlib.pyplot as plt\n",
    "import numpy as np\n",
    "import tensorflow as tf\n",
    "import tensorflow_probability as tfp\n",
    "\n",
    "from tensorflow.keras.layers import Dense, Flatten, Conv2D, Reshape\n",
    "from tensorflow.keras.models import Sequential\n",
    "from tensorflow.keras import Model\n",
    "\n",
    "from tqdm import trange"
   ]
  },
  {
   "cell_type": "code",
   "execution_count": null,
   "metadata": {},
   "outputs": [],
   "source": [
    "os.environ['CUDA_VISIBLE_DEVICES'] = '0'\n",
    "tf.config.list_physical_devices('GPU')"
   ]
  },
  {
   "cell_type": "markdown",
   "metadata": {},
   "source": [
    "### 0) Prepare model & data (same as in tutorial)"
   ]
  },
  {
   "cell_type": "code",
   "execution_count": null,
   "metadata": {},
   "outputs": [],
   "source": [
    "class VAE(Model):\n",
    "  h_dim = 500\n",
    "\n",
    "  def __init__(self, x_shape, z_dim):\n",
    "    super().__init__()\n",
    "\n",
    "    x_dim = np.prod(x_shape)\n",
    "    self.z_dim = z_dim\n",
    "\n",
    "    self.encoder = Sequential([\n",
    "        Flatten(),\n",
    "        Dense(self.h_dim, activation='relu'),\n",
    "        Dense(self.h_dim, activation='relu'),\n",
    "    ])\n",
    "    self.mu_dense = Dense(z_dim)\n",
    "    self.sigma_dense = Dense(z_dim, activation='softplus')\n",
    "\n",
    "    self.decoder = Sequential([\n",
    "        Dense(self.h_dim, activation='relu'),\n",
    "        Dense(self.h_dim, activation='relu'),\n",
    "        Dense(x_dim, activation='sigmoid'),\n",
    "        Reshape(x_shape)\n",
    "    ])\n",
    "\n",
    "  def encode(self, x):\n",
    "    h = self.encoder(x)\n",
    "    z_mu = self.mu_dense(h)\n",
    "    z_sigma = self.sigma_dense(h)\n",
    "    return z_mu, z_sigma\n",
    "\n",
    "  def decode(self, z):\n",
    "    return self.decoder(z)\n",
    "\n",
    "\n",
    "@tf.function\n",
    "def compute_elbo(x, x_reconst, z_mu, z_sigma):\n",
    "  log_likelihood = tf.reduce_sum(\n",
    "    x*tf.math.log(x_reconst+1e-6) + (1-x)*tf.math.log(1-x_reconst+1e-6),\n",
    "    axis=(1,2)\n",
    "  )\n",
    "  kl = 0.5 * tf.reduce_sum(\n",
    "    z_mu**2 + z_sigma**2 - tf.math.log(z_sigma**2) - 1,\n",
    "    axis=1\n",
    "  )\n",
    "  elbo = tf.reduce_mean(log_likelihood - kl)\n",
    "  return elbo"
   ]
  },
  {
   "cell_type": "code",
   "execution_count": null,
   "metadata": {},
   "outputs": [],
   "source": [
    "mnist = tf.keras.datasets.mnist\n",
    "\n",
    "(x_train, y_train), (x_test, y_test) = mnist.load_data()\n",
    "x_train = tf.cast(x_train / 255.0, tf.float32)\n",
    "x_test = tf.cast(x_test / 255.0, tf.float32)\n",
    "\n",
    "train_ds = tf.data.Dataset.from_tensor_slices(x_train).shuffle(10000).batch(100)\n",
    "test_ds = tf.data.Dataset.from_tensor_slices(x_test).batch(100)### 3) Train VAE"
   ]
  },
  {
   "cell_type": "markdown",
   "metadata": {},
   "source": [
    "### 1)Train VAE with low z dimension"
   ]
  },
  {
   "cell_type": "code",
   "execution_count": null,
   "metadata": {},
   "outputs": [],
   "source": [
    "vae2 = VAE((28, 28), 2)\n",
    "optimizer = tf.keras.optimizers.Adam()\n",
    "\n",
    "for epoch_i in trange(100):\n",
    "  for x in train_ds:\n",
    "    with tf.GradientTape() as tape:\n",
    "      z_mu, z_sigma = vae2.encode(x)\n",
    "      z_dist = tfp.distributions.Normal(z_mu, z_sigma)\n",
    "      z = z_dist.sample()\n",
    "      x_reconst = vae2.decode(z)\n",
    "        \n",
    "      elbo = compute_elbo(x, x_reconst, z_mu, z_sigma)\n",
    "      loss = -elbo\n",
    "    gradients = tape.gradient(loss, vae2.trainable_variables)\n",
    "    optimizer.apply_gradients(zip(gradients, vae2.trainable_variables))\n",
    "\n",
    "  if (epoch_i+1) % 5 == 0:\n",
    "    vae2.save_weights(f'ckpt2/{epoch_i + 1}')"
   ]
  },
  {
   "cell_type": "markdown",
   "metadata": {},
   "source": [
    "### 2)Train VAE with high z dimension"
   ]
  },
  {
   "cell_type": "code",
   "execution_count": null,
   "metadata": {},
   "outputs": [],
   "source": [
    "vae10 = VAE((28, 28), 10)\n",
    "optimizer = tf.keras.optimizers.Adam()\n",
    "\n",
    "for epoch_i in trange(100):\n",
    "  for x in train_ds:\n",
    "    with tf.GradientTape() as tape:\n",
    "      z_mu, z_sigma = vae10.encode(x)\n",
    "      z_dist = tfp.distributions.Normal(z_mu, z_sigma)\n",
    "      z = z_dist.sample()\n",
    "      x_reconst = vae10.decode(z)\n",
    "        \n",
    "      elbo = compute_elbo(x, x_reconst, z_mu, z_sigma)\n",
    "      loss = -elbo\n",
    "    gradients = tape.gradient(loss, vae10.trainable_variables)\n",
    "    optimizer.apply_gradients(zip(gradients, vae10.trainable_variables))\n",
    "\n",
    "  if (epoch_i+1) % 5 == 0:\n",
    "    vae10.save_weights(f'ckpt10/{epoch_i + 1}')"
   ]
  },
  {
   "cell_type": "markdown",
   "metadata": {},
   "source": [
    "### 3) Compare decoded images"
   ]
  },
  {
   "cell_type": "code",
   "execution_count": null,
   "metadata": {},
   "outputs": [],
   "source": [
    "idx = 3\n",
    "\n",
    "vae2.load_weights(f'ckpt2/100')\n",
    "vae10.load_weights(f'ckpt10/100')\n",
    "\n",
    "fig, (ax1, ax2, ax3) = plt.subplots(1, 3)\n",
    "ax1.imshow(x_test[idx])\n",
    "\n",
    "z_mu, _ = vae2.encode(x_test)\n",
    "x_reconst = vae2.decode(z_mu)\n",
    "ax2.imshow(x_reconst[idx])\n",
    "\n",
    "z_mu, _ = vae10.encode(x_test)\n",
    "print(z_mu.shape)\n",
    "x_reconst = vae10.decode(z_mu)\n",
    "ax3.imshow(x_reconst[idx])"
   ]
  }
 ],
 "metadata": {
  "kernelspec": {
   "display_name": "Python 3.7.5 64-bit ('rl': venv)",
   "language": "python",
   "name": "python37564bitrlvenvfa06d35e592b40a18928a098c90a386c"
  },
  "language_info": {
   "codemirror_mode": {
    "name": "ipython",
    "version": 3
   },
   "file_extension": ".py",
   "mimetype": "text/x-python",
   "name": "python",
   "nbconvert_exporter": "python",
   "pygments_lexer": "ipython3",
   "version": "3.7.8"
  }
 },
 "nbformat": 4,
 "nbformat_minor": 2
}
