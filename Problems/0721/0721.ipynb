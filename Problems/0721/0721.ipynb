{
 "cells": [
  {
   "cell_type": "markdown",
   "metadata": {},
   "source": [
    "### 실습문제\n",
    "Neural network의 weight들은 랜덤하게 초기화 됩니다. 초기 epoch에서 learning rate가 크게 되면 random한 weight들이 크게 바뀌면서 좋지 않은 local optima에 수렴해버리는 경향이 있습니다. 이를 방지하기 위해 머신러닝 엔지니어들은 **Warm up**을 사용합니다. **Warm up**이란 초반 learning rate를 작게 한 후 특정 epoch까지 learning rate를 1까지 linear하게 증가시킨 후 learning rate decay를 해주는 방식입니다.\n",
    "![WarmUp_LR](midterm_img.png)\n",
    "\n",
    "위의 설명을 토대로 **lr_scheduler** function을 구현하세요.\n",
    "(Learning rate graph 코드를 통해 주어진 그림과 같게 나오는지 확인해볼 수 있습니다)"
   ]
  },
  {
   "cell_type": "code",
   "execution_count": null,
   "metadata": {},
   "outputs": [],
   "source": [
    "import matplotlib.pyplot as plt\n",
    "\n",
    "def lr_scheduler(init_lr, epoch, max_epoch, warmup_epoch):\n",
    "    current_lr: float\n",
    "    if epoch < warmup_epoch:\n",
    "       \n",
    "        return current_learning_rate\n",
    "    else:\n",
    "        return current_lr\n",
    "\n"
   ]
  },
  {
   "cell_type": "markdown",
   "metadata": {},
   "source": [
    "#### Learning rate Graph\n"
   ]
  },
  {
   "cell_type": "code",
   "execution_count": null,
   "metadata": {},
   "outputs": [],
   "source": [
    "init_lr = 0.5\n",
    "max_epoch = 90\n",
    "warmup_epoch = 20\n",
    "\n",
    "lr_list = []\n",
    "for epoch in range(max_epoch):\n",
    "    lr_list.append(lr_scheduler(init_lr, epoch, max_epoch, warmup_epoch))\n",
    "\n",
    "plt.plot(list(range(max_epoch)), lr_list)\n",
    "plt.show()"
   ]
  },
  {
   "cell_type": "code",
   "execution_count": null,
   "metadata": {},
   "outputs": [],
   "source": []
  }
 ],
 "metadata": {
  "kernelspec": {
   "display_name": "Python 3",
   "language": "python",
   "name": "python3"
  },
  "language_info": {
   "codemirror_mode": {
    "name": "ipython",
    "version": 3
   },
   "file_extension": ".py",
   "mimetype": "text/x-python",
   "name": "python",
   "nbconvert_exporter": "python",
   "pygments_lexer": "ipython3",
   "version": "3.6.9"
  }
 },
 "nbformat": 4,
 "nbformat_minor": 4
}
